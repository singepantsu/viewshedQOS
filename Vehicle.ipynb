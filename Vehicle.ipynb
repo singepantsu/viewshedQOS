{
 "cells": [
  {
   "attachments": {},
   "cell_type": "markdown",
   "metadata": {},
   "source": [
    "    a. Join the data ('event_trip_no' in veh_stop with 'event_no' in veh_trip, then time_grp_id in veh_trip with TIME_GROUP_ID in nom_pattern \n",
    "    b. Filter for trips with 100 in pattern_quality\n",
    "    c. Report average time between stops in the correct order of how the bus moves through the route"
   ]
  },
  {
   "cell_type": "code",
   "execution_count": null,
   "metadata": {},
   "outputs": [],
   "source": [
    "import numpy as np\n",
    "import pandas as pd\n",
    "\n",
    "# open dataset\n",
    "df_veh_stop = pd.read_csv(\"veh_stop.csv\", index_col=\"even_no\")\n",
    "df.head()\n"
   ]
  }
 ],
 "metadata": {
  "kernelspec": {
   "display_name": "Python 3",
   "language": "python",
   "name": "python3"
  },
  "language_info": {
   "name": "python",
   "version": "3.10.6"
  },
  "orig_nbformat": 4
 },
 "nbformat": 4,
 "nbformat_minor": 2
}
